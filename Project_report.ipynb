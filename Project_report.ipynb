{
  "cells": [
    {
      "cell_type": "markdown",
      "metadata": {
        "id": "6w6I-hA8spj3"
      },
      "source": [
        "# Project Report – US Accidents Dataset Analysis"
      ]
    },
    {
      "cell_type": "markdown",
      "metadata": {
        "id": "jU5JxHabrwBV"
      },
      "source": [
        "ICS 574 - Big Data Analytics Course Project\n",
        "\n",
        "Submitted by Marwan Qomawi ID: g201657800."
      ]
    },
    {
      "cell_type": "markdown",
      "metadata": {
        "id": "vZjRnzbOM_vP"
      },
      "source": [
        "## Objective"
      ]
    },
    {
      "cell_type": "markdown",
      "metadata": {
        "id": "k8dQ6OK3NCXb"
      },
      "source": [
        "The goal of this project is to explore and analyze the US Accidents dataset, preprocess the data, and build classification models to predict the severity of accidents (binary: severe or not severe). This involves data cleaning, feature engineering, exploratory analysis, and the application of machine learning models to gain insights into the key contributing factors to traffic severity."
      ]
    },
    {
      "cell_type": "markdown",
      "metadata": {
        "id": "7bVRbJFSsujp"
      },
      "source": [
        "## 1. Selected Dataset"
      ]
    },
    {
      "cell_type": "markdown",
      "metadata": {
        "id": "h41lPMHTsyJw"
      },
      "source": [
        "**Dataset Name:** US Accidents (March 2023 Sampled - 500K records)\n",
        "\n",
        "\n",
        "**Link:**\n",
        "\n",
        "- Original dataset: https://www.kaggle.com/datasets/sobhanmoosavi/us-accidents\n",
        "\n",
        "- Sampled (Currently using): https://drive.google.com/file/d/1U3u8QYzLjnEaSurtZfSAS_oh9AT2Mn8X\n",
        "\n",
        "\n",
        "**Source:** Sampled dataset by the same author as the original Kaggle dataset.\n",
        "\n",
        "\n",
        "**Description:** This dataset contains information about traffic accidents that occurred in the United States from 2016 to early 2023. Each record represents a single accident and includes features like time, location, weather, visibility, and more.\n",
        "\n",
        "\n",
        "**Target Variable:** Severity (ranging from 1 to 4)\n",
        "\n",
        "For simplicity, we are converting this to a binary classification task:\n",
        "\n",
        "- Severity 1–2 → 0 (Low severity)\n",
        "\n",
        "- Severity 3–4 → 1 (High severity)"
      ]
    },
    {
      "cell_type": "markdown",
      "metadata": {
        "id": "OWL35wFbsqT-"
      },
      "source": [
        "**Feature Description**\n",
        "\n",
        "| Feature              | Description                                                                 |\n",
        "|----------------------|-----------------------------------------------------------------------------|\n",
        "| `ID`                | Unique identifier for each accident.                                        |\n",
        "| `Severity`          | Severity level (1–4) where 1 = least and 4 = most severe.                   |\n",
        "| `Start_Time`        | Timestamp of when the accident started.                                     |\n",
        "| `End_Time`          | Timestamp of when the accident ended.                                       |\n",
        "| `Start_Lat`, `Start_Lng` | Latitude and Longitude where the accident occurred.                     |\n",
        "| `Temperature(F)`    | Temperature in Fahrenheit.                                                  |\n",
        "| `Humidity(%)`       | Humidity percentage.                                                        |\n",
        "| `Pressure(in)`      | Atmospheric pressure in inches.                                             |\n",
        "| `Visibility(mi)`    | Visibility in miles.                                                        |\n",
        "| `Wind_Speed(mph)`   | Wind speed in miles per hour.                                               |\n",
        "| `Weather_Condition` | General weather condition (e.g., Rain, Snow).                               |\n",
        "| `Sunrise_Sunset`    | Indicates whether the accident occurred during day or night.               |\n"
      ]
    },
    {
      "cell_type": "markdown",
      "metadata": {
        "id": "44MkZP2Qs4O4"
      },
      "source": [
        "## 2. Initial Overview of the Dataset"
      ]
    },
    {
      "cell_type": "markdown",
      "metadata": {
        "id": "z7SnZgQ9s8Vo"
      },
      "source": [
        "**Data set overview:**\n",
        "\n"
      ]
    },
    {
      "cell_type": "code",
      "execution_count": 105,
      "metadata": {
        "id": "C1rgHZ-dx1kD"
      },
      "outputs": [],
      "source": [
        "import pandas as pd\n",
        "import numpy as np\n",
        "import matplotlib.pyplot as plt\n",
        "import seaborn as sns\n",
        "import warnings\n",
        "warnings.filterwarnings('ignore')\n",
        "\n",
        "# Setup display options\n",
        "pd.set_option('display.max_columns', None)\n",
        "\n",
        "# Load Dataset\n",
        "file_path = (r\"C:\\Users\\user\\Downloads\\574\\Project\\progress-report\\data\\US_Accidents_March23_sampled_500k.csv\")\n",
        "df = pd.read_csv(file_path)"
      ]
    },
    {
      "cell_type": "code",
      "execution_count": 125,
      "metadata": {
        "colab": {
          "base_uri": "https://localhost:8080/"
        },
        "id": "Txol78ZG5IfA",
        "outputId": "c3e264cc-c2cb-40bd-d3d7-d9890565aa92"
      },
      "outputs": [
        {
          "data": {
            "text/plain": [
              "(138421, 32)"
            ]
          },
          "execution_count": 125,
          "metadata": {},
          "output_type": "execute_result"
        }
      ],
      "source": [
        "# Rows and columns\n",
        "df.shape"
      ]
    },
    {
      "cell_type": "code",
      "execution_count": 91,
      "metadata": {
        "colab": {
          "base_uri": "https://localhost:8080/",
          "height": 574
        },
        "id": "LtnwFjNW5Nzh",
        "outputId": "7c9d7748-0acc-4120-c58a-db7e95b61657"
      },
      "outputs": [
        {
          "data": {
            "text/html": [
              "<div>\n",
              "<style scoped>\n",
              "    .dataframe tbody tr th:only-of-type {\n",
              "        vertical-align: middle;\n",
              "    }\n",
              "\n",
              "    .dataframe tbody tr th {\n",
              "        vertical-align: top;\n",
              "    }\n",
              "\n",
              "    .dataframe thead th {\n",
              "        text-align: right;\n",
              "    }\n",
              "</style>\n",
              "<table border=\"1\" class=\"dataframe\">\n",
              "  <thead>\n",
              "    <tr style=\"text-align: right;\">\n",
              "      <th></th>\n",
              "      <th>ID</th>\n",
              "      <th>Source</th>\n",
              "      <th>Severity</th>\n",
              "      <th>Start_Time</th>\n",
              "      <th>End_Time</th>\n",
              "      <th>Start_Lat</th>\n",
              "      <th>Start_Lng</th>\n",
              "      <th>End_Lat</th>\n",
              "      <th>End_Lng</th>\n",
              "      <th>Distance(mi)</th>\n",
              "      <th>Description</th>\n",
              "      <th>Street</th>\n",
              "      <th>City</th>\n",
              "      <th>County</th>\n",
              "      <th>State</th>\n",
              "      <th>Zipcode</th>\n",
              "      <th>Country</th>\n",
              "      <th>Timezone</th>\n",
              "      <th>Airport_Code</th>\n",
              "      <th>Weather_Timestamp</th>\n",
              "      <th>Temperature(F)</th>\n",
              "      <th>Wind_Chill(F)</th>\n",
              "      <th>Humidity(%)</th>\n",
              "      <th>Pressure(in)</th>\n",
              "      <th>Visibility(mi)</th>\n",
              "      <th>Wind_Direction</th>\n",
              "      <th>Wind_Speed(mph)</th>\n",
              "      <th>Precipitation(in)</th>\n",
              "      <th>Weather_Condition</th>\n",
              "      <th>Amenity</th>\n",
              "      <th>Bump</th>\n",
              "      <th>Crossing</th>\n",
              "      <th>Give_Way</th>\n",
              "      <th>Junction</th>\n",
              "      <th>No_Exit</th>\n",
              "      <th>Railway</th>\n",
              "      <th>Roundabout</th>\n",
              "      <th>Station</th>\n",
              "      <th>Stop</th>\n",
              "      <th>Traffic_Calming</th>\n",
              "      <th>Traffic_Signal</th>\n",
              "      <th>Turning_Loop</th>\n",
              "      <th>Sunrise_Sunset</th>\n",
              "      <th>Civil_Twilight</th>\n",
              "      <th>Nautical_Twilight</th>\n",
              "      <th>Astronomical_Twilight</th>\n",
              "    </tr>\n",
              "  </thead>\n",
              "  <tbody>\n",
              "    <tr>\n",
              "      <th>0</th>\n",
              "      <td>A-2047758</td>\n",
              "      <td>Source2</td>\n",
              "      <td>2</td>\n",
              "      <td>2019-06-12 10:10:56</td>\n",
              "      <td>2019-06-12 10:55:58</td>\n",
              "      <td>30.641211</td>\n",
              "      <td>-91.153481</td>\n",
              "      <td>NaN</td>\n",
              "      <td>NaN</td>\n",
              "      <td>0.000</td>\n",
              "      <td>Accident on LA-19 Baker-Zachary Hwy at Lower Z...</td>\n",
              "      <td>Highway 19</td>\n",
              "      <td>Zachary</td>\n",
              "      <td>East Baton Rouge</td>\n",
              "      <td>LA</td>\n",
              "      <td>70791-4610</td>\n",
              "      <td>US</td>\n",
              "      <td>US/Central</td>\n",
              "      <td>KBTR</td>\n",
              "      <td>2019-06-12 09:53:00</td>\n",
              "      <td>77.0</td>\n",
              "      <td>77.0</td>\n",
              "      <td>62.0</td>\n",
              "      <td>29.92</td>\n",
              "      <td>10.0</td>\n",
              "      <td>NW</td>\n",
              "      <td>5.0</td>\n",
              "      <td>0.0</td>\n",
              "      <td>Fair</td>\n",
              "      <td>False</td>\n",
              "      <td>False</td>\n",
              "      <td>False</td>\n",
              "      <td>False</td>\n",
              "      <td>False</td>\n",
              "      <td>False</td>\n",
              "      <td>False</td>\n",
              "      <td>False</td>\n",
              "      <td>False</td>\n",
              "      <td>False</td>\n",
              "      <td>False</td>\n",
              "      <td>True</td>\n",
              "      <td>False</td>\n",
              "      <td>Day</td>\n",
              "      <td>Day</td>\n",
              "      <td>Day</td>\n",
              "      <td>Day</td>\n",
              "    </tr>\n",
              "    <tr>\n",
              "      <th>1</th>\n",
              "      <td>A-4694324</td>\n",
              "      <td>Source1</td>\n",
              "      <td>2</td>\n",
              "      <td>2022-12-03 23:37:14.000000000</td>\n",
              "      <td>2022-12-04 01:56:53.000000000</td>\n",
              "      <td>38.990562</td>\n",
              "      <td>-77.399070</td>\n",
              "      <td>38.990037</td>\n",
              "      <td>-77.398282</td>\n",
              "      <td>0.056</td>\n",
              "      <td>Incident on FOREST RIDGE DR near PEPPERIDGE PL...</td>\n",
              "      <td>Forest Ridge Dr</td>\n",
              "      <td>Sterling</td>\n",
              "      <td>Loudoun</td>\n",
              "      <td>VA</td>\n",
              "      <td>20164-2813</td>\n",
              "      <td>US</td>\n",
              "      <td>US/Eastern</td>\n",
              "      <td>KIAD</td>\n",
              "      <td>2022-12-03 23:52:00</td>\n",
              "      <td>45.0</td>\n",
              "      <td>43.0</td>\n",
              "      <td>48.0</td>\n",
              "      <td>29.91</td>\n",
              "      <td>10.0</td>\n",
              "      <td>W</td>\n",
              "      <td>5.0</td>\n",
              "      <td>0.0</td>\n",
              "      <td>Fair</td>\n",
              "      <td>False</td>\n",
              "      <td>False</td>\n",
              "      <td>False</td>\n",
              "      <td>False</td>\n",
              "      <td>False</td>\n",
              "      <td>False</td>\n",
              "      <td>False</td>\n",
              "      <td>False</td>\n",
              "      <td>False</td>\n",
              "      <td>False</td>\n",
              "      <td>False</td>\n",
              "      <td>False</td>\n",
              "      <td>False</td>\n",
              "      <td>Night</td>\n",
              "      <td>Night</td>\n",
              "      <td>Night</td>\n",
              "      <td>Night</td>\n",
              "    </tr>\n",
              "    <tr>\n",
              "      <th>2</th>\n",
              "      <td>A-5006183</td>\n",
              "      <td>Source1</td>\n",
              "      <td>2</td>\n",
              "      <td>2022-08-20 13:13:00.000000000</td>\n",
              "      <td>2022-08-20 15:22:45.000000000</td>\n",
              "      <td>34.661189</td>\n",
              "      <td>-120.492822</td>\n",
              "      <td>34.661189</td>\n",
              "      <td>-120.492442</td>\n",
              "      <td>0.022</td>\n",
              "      <td>Accident on W Central Ave from Floradale Ave t...</td>\n",
              "      <td>Floradale Ave</td>\n",
              "      <td>Lompoc</td>\n",
              "      <td>Santa Barbara</td>\n",
              "      <td>CA</td>\n",
              "      <td>93436</td>\n",
              "      <td>US</td>\n",
              "      <td>US/Pacific</td>\n",
              "      <td>KLPC</td>\n",
              "      <td>2022-08-20 12:56:00</td>\n",
              "      <td>68.0</td>\n",
              "      <td>68.0</td>\n",
              "      <td>73.0</td>\n",
              "      <td>29.79</td>\n",
              "      <td>10.0</td>\n",
              "      <td>W</td>\n",
              "      <td>13.0</td>\n",
              "      <td>0.0</td>\n",
              "      <td>Fair</td>\n",
              "      <td>False</td>\n",
              "      <td>False</td>\n",
              "      <td>False</td>\n",
              "      <td>False</td>\n",
              "      <td>False</td>\n",
              "      <td>False</td>\n",
              "      <td>False</td>\n",
              "      <td>False</td>\n",
              "      <td>False</td>\n",
              "      <td>False</td>\n",
              "      <td>False</td>\n",
              "      <td>True</td>\n",
              "      <td>False</td>\n",
              "      <td>Day</td>\n",
              "      <td>Day</td>\n",
              "      <td>Day</td>\n",
              "      <td>Day</td>\n",
              "    </tr>\n",
              "    <tr>\n",
              "      <th>3</th>\n",
              "      <td>A-4237356</td>\n",
              "      <td>Source1</td>\n",
              "      <td>2</td>\n",
              "      <td>2022-02-21 17:43:04</td>\n",
              "      <td>2022-02-21 19:43:23</td>\n",
              "      <td>43.680592</td>\n",
              "      <td>-92.993317</td>\n",
              "      <td>43.680574</td>\n",
              "      <td>-92.972223</td>\n",
              "      <td>1.054</td>\n",
              "      <td>Incident on I-90 EB near REST AREA Drive with ...</td>\n",
              "      <td>14th St NW</td>\n",
              "      <td>Austin</td>\n",
              "      <td>Mower</td>\n",
              "      <td>MN</td>\n",
              "      <td>55912</td>\n",
              "      <td>US</td>\n",
              "      <td>US/Central</td>\n",
              "      <td>KAUM</td>\n",
              "      <td>2022-02-21 17:35:00</td>\n",
              "      <td>27.0</td>\n",
              "      <td>15.0</td>\n",
              "      <td>86.0</td>\n",
              "      <td>28.49</td>\n",
              "      <td>10.0</td>\n",
              "      <td>ENE</td>\n",
              "      <td>15.0</td>\n",
              "      <td>0.0</td>\n",
              "      <td>Wintry Mix</td>\n",
              "      <td>False</td>\n",
              "      <td>False</td>\n",
              "      <td>False</td>\n",
              "      <td>False</td>\n",
              "      <td>False</td>\n",
              "      <td>False</td>\n",
              "      <td>False</td>\n",
              "      <td>False</td>\n",
              "      <td>False</td>\n",
              "      <td>False</td>\n",
              "      <td>False</td>\n",
              "      <td>False</td>\n",
              "      <td>False</td>\n",
              "      <td>Day</td>\n",
              "      <td>Day</td>\n",
              "      <td>Day</td>\n",
              "      <td>Day</td>\n",
              "    </tr>\n",
              "    <tr>\n",
              "      <th>4</th>\n",
              "      <td>A-6690583</td>\n",
              "      <td>Source1</td>\n",
              "      <td>2</td>\n",
              "      <td>2020-12-04 01:46:00</td>\n",
              "      <td>2020-12-04 04:13:09</td>\n",
              "      <td>35.395484</td>\n",
              "      <td>-118.985176</td>\n",
              "      <td>35.395476</td>\n",
              "      <td>-118.985995</td>\n",
              "      <td>0.046</td>\n",
              "      <td>RP ADV THEY LOCATED SUSP VEH OF 20002 - 726 CR...</td>\n",
              "      <td>River Blvd</td>\n",
              "      <td>Bakersfield</td>\n",
              "      <td>Kern</td>\n",
              "      <td>CA</td>\n",
              "      <td>93305-2649</td>\n",
              "      <td>US</td>\n",
              "      <td>US/Pacific</td>\n",
              "      <td>KBFL</td>\n",
              "      <td>2020-12-04 01:54:00</td>\n",
              "      <td>42.0</td>\n",
              "      <td>42.0</td>\n",
              "      <td>34.0</td>\n",
              "      <td>29.77</td>\n",
              "      <td>10.0</td>\n",
              "      <td>CALM</td>\n",
              "      <td>0.0</td>\n",
              "      <td>0.0</td>\n",
              "      <td>Fair</td>\n",
              "      <td>False</td>\n",
              "      <td>False</td>\n",
              "      <td>False</td>\n",
              "      <td>False</td>\n",
              "      <td>False</td>\n",
              "      <td>False</td>\n",
              "      <td>False</td>\n",
              "      <td>False</td>\n",
              "      <td>False</td>\n",
              "      <td>False</td>\n",
              "      <td>False</td>\n",
              "      <td>False</td>\n",
              "      <td>False</td>\n",
              "      <td>Night</td>\n",
              "      <td>Night</td>\n",
              "      <td>Night</td>\n",
              "      <td>Night</td>\n",
              "    </tr>\n",
              "  </tbody>\n",
              "</table>\n",
              "</div>"
            ],
            "text/plain": [
              "          ID   Source  Severity                     Start_Time  \\\n",
              "0  A-2047758  Source2         2            2019-06-12 10:10:56   \n",
              "1  A-4694324  Source1         2  2022-12-03 23:37:14.000000000   \n",
              "2  A-5006183  Source1         2  2022-08-20 13:13:00.000000000   \n",
              "3  A-4237356  Source1         2            2022-02-21 17:43:04   \n",
              "4  A-6690583  Source1         2            2020-12-04 01:46:00   \n",
              "\n",
              "                        End_Time  Start_Lat   Start_Lng    End_Lat  \\\n",
              "0            2019-06-12 10:55:58  30.641211  -91.153481        NaN   \n",
              "1  2022-12-04 01:56:53.000000000  38.990562  -77.399070  38.990037   \n",
              "2  2022-08-20 15:22:45.000000000  34.661189 -120.492822  34.661189   \n",
              "3            2022-02-21 19:43:23  43.680592  -92.993317  43.680574   \n",
              "4            2020-12-04 04:13:09  35.395484 -118.985176  35.395476   \n",
              "\n",
              "      End_Lng  Distance(mi)  \\\n",
              "0         NaN         0.000   \n",
              "1  -77.398282         0.056   \n",
              "2 -120.492442         0.022   \n",
              "3  -92.972223         1.054   \n",
              "4 -118.985995         0.046   \n",
              "\n",
              "                                         Description            Street  \\\n",
              "0  Accident on LA-19 Baker-Zachary Hwy at Lower Z...        Highway 19   \n",
              "1  Incident on FOREST RIDGE DR near PEPPERIDGE PL...   Forest Ridge Dr   \n",
              "2  Accident on W Central Ave from Floradale Ave t...     Floradale Ave   \n",
              "3  Incident on I-90 EB near REST AREA Drive with ...        14th St NW   \n",
              "4  RP ADV THEY LOCATED SUSP VEH OF 20002 - 726 CR...        River Blvd   \n",
              "\n",
              "          City            County State     Zipcode Country    Timezone  \\\n",
              "0      Zachary  East Baton Rouge    LA  70791-4610      US  US/Central   \n",
              "1     Sterling           Loudoun    VA  20164-2813      US  US/Eastern   \n",
              "2       Lompoc     Santa Barbara    CA       93436      US  US/Pacific   \n",
              "3       Austin             Mower    MN       55912      US  US/Central   \n",
              "4  Bakersfield              Kern    CA  93305-2649      US  US/Pacific   \n",
              "\n",
              "  Airport_Code    Weather_Timestamp  Temperature(F)  Wind_Chill(F)  \\\n",
              "0         KBTR  2019-06-12 09:53:00            77.0           77.0   \n",
              "1         KIAD  2022-12-03 23:52:00            45.0           43.0   \n",
              "2         KLPC  2022-08-20 12:56:00            68.0           68.0   \n",
              "3         KAUM  2022-02-21 17:35:00            27.0           15.0   \n",
              "4         KBFL  2020-12-04 01:54:00            42.0           42.0   \n",
              "\n",
              "   Humidity(%)  Pressure(in)  Visibility(mi) Wind_Direction  Wind_Speed(mph)  \\\n",
              "0         62.0         29.92            10.0             NW              5.0   \n",
              "1         48.0         29.91            10.0              W              5.0   \n",
              "2         73.0         29.79            10.0              W             13.0   \n",
              "3         86.0         28.49            10.0            ENE             15.0   \n",
              "4         34.0         29.77            10.0           CALM              0.0   \n",
              "\n",
              "   Precipitation(in) Weather_Condition  Amenity   Bump  Crossing  Give_Way  \\\n",
              "0                0.0              Fair    False  False     False     False   \n",
              "1                0.0              Fair    False  False     False     False   \n",
              "2                0.0              Fair    False  False     False     False   \n",
              "3                0.0        Wintry Mix    False  False     False     False   \n",
              "4                0.0              Fair    False  False     False     False   \n",
              "\n",
              "   Junction  No_Exit  Railway  Roundabout  Station   Stop  Traffic_Calming  \\\n",
              "0     False    False    False       False    False  False            False   \n",
              "1     False    False    False       False    False  False            False   \n",
              "2     False    False    False       False    False  False            False   \n",
              "3     False    False    False       False    False  False            False   \n",
              "4     False    False    False       False    False  False            False   \n",
              "\n",
              "   Traffic_Signal  Turning_Loop Sunrise_Sunset Civil_Twilight  \\\n",
              "0            True         False            Day            Day   \n",
              "1           False         False          Night          Night   \n",
              "2            True         False            Day            Day   \n",
              "3           False         False            Day            Day   \n",
              "4           False         False          Night          Night   \n",
              "\n",
              "  Nautical_Twilight Astronomical_Twilight  \n",
              "0               Day                   Day  \n",
              "1             Night                 Night  \n",
              "2               Day                   Day  \n",
              "3               Day                   Day  \n",
              "4             Night                 Night  "
            ]
          },
          "execution_count": 91,
          "metadata": {},
          "output_type": "execute_result"
        }
      ],
      "source": [
        "# First Few Rows\n",
        "df.head()"
      ]
    },
    {
      "cell_type": "code",
      "execution_count": 92,
      "metadata": {
        "colab": {
          "base_uri": "https://localhost:8080/"
        },
        "id": "q5i9iD8F5XGq",
        "outputId": "de2ad27c-ee81-4341-d204-a55407fbf12f"
      },
      "outputs": [
        {
          "name": "stdout",
          "output_type": "stream",
          "text": [
            "<class 'pandas.core.frame.DataFrame'>\n",
            "RangeIndex: 500000 entries, 0 to 499999\n",
            "Data columns (total 46 columns):\n",
            " #   Column                 Non-Null Count   Dtype  \n",
            "---  ------                 --------------   -----  \n",
            " 0   ID                     500000 non-null  object \n",
            " 1   Source                 500000 non-null  object \n",
            " 2   Severity               500000 non-null  int64  \n",
            " 3   Start_Time             500000 non-null  object \n",
            " 4   End_Time               500000 non-null  object \n",
            " 5   Start_Lat              500000 non-null  float64\n",
            " 6   Start_Lng              500000 non-null  float64\n",
            " 7   End_Lat                279623 non-null  float64\n",
            " 8   End_Lng                279623 non-null  float64\n",
            " 9   Distance(mi)           500000 non-null  float64\n",
            " 10  Description            499999 non-null  object \n",
            " 11  Street                 499309 non-null  object \n",
            " 12  City                   499981 non-null  object \n",
            " 13  County                 500000 non-null  object \n",
            " 14  State                  500000 non-null  object \n",
            " 15  Zipcode                499884 non-null  object \n",
            " 16  Country                500000 non-null  object \n",
            " 17  Timezone               499493 non-null  object \n",
            " 18  Airport_Code           498554 non-null  object \n",
            " 19  Weather_Timestamp      492326 non-null  object \n",
            " 20  Temperature(F)         489534 non-null  float64\n",
            " 21  Wind_Chill(F)          370983 non-null  float64\n",
            " 22  Humidity(%)            488870 non-null  float64\n",
            " 23  Pressure(in)           491072 non-null  float64\n",
            " 24  Visibility(mi)         488709 non-null  float64\n",
            " 25  Wind_Direction         488803 non-null  object \n",
            " 26  Wind_Speed(mph)        463013 non-null  float64\n",
            " 27  Precipitation(in)      357384 non-null  float64\n",
            " 28  Weather_Condition      488899 non-null  object \n",
            " 29  Amenity                500000 non-null  bool   \n",
            " 30  Bump                   500000 non-null  bool   \n",
            " 31  Crossing               500000 non-null  bool   \n",
            " 32  Give_Way               500000 non-null  bool   \n",
            " 33  Junction               500000 non-null  bool   \n",
            " 34  No_Exit                500000 non-null  bool   \n",
            " 35  Railway                500000 non-null  bool   \n",
            " 36  Roundabout             500000 non-null  bool   \n",
            " 37  Station                500000 non-null  bool   \n",
            " 38  Stop                   500000 non-null  bool   \n",
            " 39  Traffic_Calming        500000 non-null  bool   \n",
            " 40  Traffic_Signal         500000 non-null  bool   \n",
            " 41  Turning_Loop           500000 non-null  bool   \n",
            " 42  Sunrise_Sunset         498517 non-null  object \n",
            " 43  Civil_Twilight         498517 non-null  object \n",
            " 44  Nautical_Twilight      498517 non-null  object \n",
            " 45  Astronomical_Twilight  498517 non-null  object \n",
            "dtypes: bool(13), float64(12), int64(1), object(20)\n",
            "memory usage: 132.1+ MB\n"
          ]
        }
      ],
      "source": [
        "# Basic Info\n",
        "df.info()"
      ]
    },
    {
      "cell_type": "markdown",
      "metadata": {
        "id": "WXb7hJ4Gxr2m"
      },
      "source": [
        "**Missing Values:**\n",
        "\n",
        "- Some features had substantial missing data (>25%) such as: End_Lat, End_Lng, Precipitation(in), Wind_Chill(F)\n",
        "(These were dropped for model clarity).\n",
        "\n",
        "- Others (e.g. Wind_Direction, Weather_Condition, Sunrise_Sunset) were imputed with mode or median as appropriate."
      ]
    },
    {
      "cell_type": "code",
      "execution_count": 93,
      "metadata": {
        "colab": {
          "base_uri": "https://localhost:8080/",
          "height": 774
        },
        "id": "vIQzd5Ifx4mV",
        "outputId": "f56b2117-2ba3-4cf2-fea4-eea8e74a9d77"
      },
      "outputs": [
        {
          "data": {
            "text/plain": [
              "End_Lat                  44.0754\n",
              "End_Lng                  44.0754\n",
              "Precipitation(in)        28.5232\n",
              "Wind_Chill(F)            25.8034\n",
              "Wind_Speed(mph)           7.3974\n",
              "Visibility(mi)            2.2582\n",
              "Wind_Direction            2.2394\n",
              "Humidity(%)               2.2260\n",
              "Weather_Condition         2.2202\n",
              "Temperature(F)            2.0932\n",
              "Pressure(in)              1.7856\n",
              "Weather_Timestamp         1.5348\n",
              "Sunrise_Sunset            0.2966\n",
              "Civil_Twilight            0.2966\n",
              "Nautical_Twilight         0.2966\n",
              "Astronomical_Twilight     0.2966\n",
              "Airport_Code              0.2892\n",
              "Street                    0.1382\n",
              "Timezone                  0.1014\n",
              "Zipcode                   0.0232\n",
              "City                      0.0038\n",
              "Description               0.0002\n",
              "dtype: float64"
            ]
          },
          "execution_count": 93,
          "metadata": {},
          "output_type": "execute_result"
        }
      ],
      "source": [
        "missing = df.isnull().sum()\n",
        "missing[missing > 0].sort_values(ascending=False)\n",
        "\n",
        "(missing[missing > 0] / len(df) * 100).sort_values(ascending=False)"
      ]
    },
    {
      "cell_type": "markdown",
      "metadata": {
        "id": "KAyPU3oyxsLA"
      },
      "source": [
        "**Duplicates:**\n",
        "No exact duplicate rows found during initial check."
      ]
    },
    {
      "cell_type": "code",
      "execution_count": 94,
      "metadata": {
        "colab": {
          "base_uri": "https://localhost:8080/"
        },
        "id": "W0ey2VlDyCjI",
        "outputId": "919716a8-3885-46e0-af60-7edd83945215"
      },
      "outputs": [
        {
          "data": {
            "text/plain": [
              "0"
            ]
          },
          "execution_count": 94,
          "metadata": {},
          "output_type": "execute_result"
        }
      ],
      "source": [
        "df.duplicated().sum()"
      ]
    },
    {
      "cell_type": "markdown",
      "metadata": {
        "id": "ZhQVvdbZxhqW"
      },
      "source": [
        "**Statistical summary:**"
      ]
    },
    {
      "cell_type": "code",
      "execution_count": 95,
      "metadata": {
        "colab": {
          "base_uri": "https://localhost:8080/",
          "height": 320
        },
        "id": "x0ETC_GnsegI",
        "outputId": "082e79c6-9e40-4e74-f873-1a60d35cb06a"
      },
      "outputs": [
        {
          "data": {
            "text/html": [
              "<div>\n",
              "<style scoped>\n",
              "    .dataframe tbody tr th:only-of-type {\n",
              "        vertical-align: middle;\n",
              "    }\n",
              "\n",
              "    .dataframe tbody tr th {\n",
              "        vertical-align: top;\n",
              "    }\n",
              "\n",
              "    .dataframe thead th {\n",
              "        text-align: right;\n",
              "    }\n",
              "</style>\n",
              "<table border=\"1\" class=\"dataframe\">\n",
              "  <thead>\n",
              "    <tr style=\"text-align: right;\">\n",
              "      <th></th>\n",
              "      <th>Severity</th>\n",
              "      <th>Start_Lat</th>\n",
              "      <th>Start_Lng</th>\n",
              "      <th>End_Lat</th>\n",
              "      <th>End_Lng</th>\n",
              "      <th>Distance(mi)</th>\n",
              "      <th>Temperature(F)</th>\n",
              "      <th>Wind_Chill(F)</th>\n",
              "      <th>Humidity(%)</th>\n",
              "      <th>Pressure(in)</th>\n",
              "      <th>Visibility(mi)</th>\n",
              "      <th>Wind_Speed(mph)</th>\n",
              "      <th>Precipitation(in)</th>\n",
              "    </tr>\n",
              "  </thead>\n",
              "  <tbody>\n",
              "    <tr>\n",
              "      <th>count</th>\n",
              "      <td>500000.000000</td>\n",
              "      <td>500000.000000</td>\n",
              "      <td>500000.000000</td>\n",
              "      <td>279623.000000</td>\n",
              "      <td>279623.000000</td>\n",
              "      <td>500000.000000</td>\n",
              "      <td>489534.000000</td>\n",
              "      <td>370983.000000</td>\n",
              "      <td>488870.000000</td>\n",
              "      <td>491072.000000</td>\n",
              "      <td>488709.000000</td>\n",
              "      <td>463013.000000</td>\n",
              "      <td>357384.000000</td>\n",
              "    </tr>\n",
              "    <tr>\n",
              "      <th>mean</th>\n",
              "      <td>2.212748</td>\n",
              "      <td>36.206421</td>\n",
              "      <td>-94.736583</td>\n",
              "      <td>36.273192</td>\n",
              "      <td>-95.776553</td>\n",
              "      <td>0.564317</td>\n",
              "      <td>61.646254</td>\n",
              "      <td>58.229028</td>\n",
              "      <td>64.834921</td>\n",
              "      <td>29.536621</td>\n",
              "      <td>9.091540</td>\n",
              "      <td>7.681347</td>\n",
              "      <td>0.008289</td>\n",
              "    </tr>\n",
              "    <tr>\n",
              "      <th>std</th>\n",
              "      <td>0.486661</td>\n",
              "      <td>5.071411</td>\n",
              "      <td>17.405761</td>\n",
              "      <td>5.265333</td>\n",
              "      <td>18.120211</td>\n",
              "      <td>1.774872</td>\n",
              "      <td>19.000133</td>\n",
              "      <td>22.352246</td>\n",
              "      <td>22.826158</td>\n",
              "      <td>1.008666</td>\n",
              "      <td>2.708083</td>\n",
              "      <td>5.431361</td>\n",
              "      <td>0.101865</td>\n",
              "    </tr>\n",
              "    <tr>\n",
              "      <th>min</th>\n",
              "      <td>1.000000</td>\n",
              "      <td>24.562117</td>\n",
              "      <td>-124.497420</td>\n",
              "      <td>24.570110</td>\n",
              "      <td>-124.497419</td>\n",
              "      <td>0.000000</td>\n",
              "      <td>-77.800000</td>\n",
              "      <td>-53.200000</td>\n",
              "      <td>1.000000</td>\n",
              "      <td>0.120000</td>\n",
              "      <td>0.000000</td>\n",
              "      <td>0.000000</td>\n",
              "      <td>0.000000</td>\n",
              "    </tr>\n",
              "    <tr>\n",
              "      <th>25%</th>\n",
              "      <td>2.000000</td>\n",
              "      <td>33.416823</td>\n",
              "      <td>-117.233047</td>\n",
              "      <td>33.474773</td>\n",
              "      <td>-117.778324</td>\n",
              "      <td>0.000000</td>\n",
              "      <td>49.000000</td>\n",
              "      <td>43.000000</td>\n",
              "      <td>48.000000</td>\n",
              "      <td>29.370000</td>\n",
              "      <td>10.000000</td>\n",
              "      <td>4.600000</td>\n",
              "      <td>0.000000</td>\n",
              "    </tr>\n",
              "    <tr>\n",
              "      <th>50%</th>\n",
              "      <td>2.000000</td>\n",
              "      <td>35.832147</td>\n",
              "      <td>-87.794365</td>\n",
              "      <td>36.192669</td>\n",
              "      <td>-88.039013</td>\n",
              "      <td>0.029000</td>\n",
              "      <td>64.000000</td>\n",
              "      <td>62.000000</td>\n",
              "      <td>67.000000</td>\n",
              "      <td>29.860000</td>\n",
              "      <td>10.000000</td>\n",
              "      <td>7.000000</td>\n",
              "      <td>0.000000</td>\n",
              "    </tr>\n",
              "    <tr>\n",
              "      <th>75%</th>\n",
              "      <td>2.000000</td>\n",
              "      <td>40.082443</td>\n",
              "      <td>-80.359601</td>\n",
              "      <td>40.181341</td>\n",
              "      <td>-80.252449</td>\n",
              "      <td>0.465000</td>\n",
              "      <td>76.000000</td>\n",
              "      <td>75.000000</td>\n",
              "      <td>84.000000</td>\n",
              "      <td>30.030000</td>\n",
              "      <td>10.000000</td>\n",
              "      <td>10.400000</td>\n",
              "      <td>0.000000</td>\n",
              "    </tr>\n",
              "    <tr>\n",
              "      <th>max</th>\n",
              "      <td>4.000000</td>\n",
              "      <td>48.999569</td>\n",
              "      <td>-67.484130</td>\n",
              "      <td>48.998901</td>\n",
              "      <td>-67.484130</td>\n",
              "      <td>193.479996</td>\n",
              "      <td>207.000000</td>\n",
              "      <td>207.000000</td>\n",
              "      <td>100.000000</td>\n",
              "      <td>38.440000</td>\n",
              "      <td>130.000000</td>\n",
              "      <td>822.800000</td>\n",
              "      <td>10.130000</td>\n",
              "    </tr>\n",
              "  </tbody>\n",
              "</table>\n",
              "</div>"
            ],
            "text/plain": [
              "            Severity      Start_Lat      Start_Lng        End_Lat  \\\n",
              "count  500000.000000  500000.000000  500000.000000  279623.000000   \n",
              "mean        2.212748      36.206421     -94.736583      36.273192   \n",
              "std         0.486661       5.071411      17.405761       5.265333   \n",
              "min         1.000000      24.562117    -124.497420      24.570110   \n",
              "25%         2.000000      33.416823    -117.233047      33.474773   \n",
              "50%         2.000000      35.832147     -87.794365      36.192669   \n",
              "75%         2.000000      40.082443     -80.359601      40.181341   \n",
              "max         4.000000      48.999569     -67.484130      48.998901   \n",
              "\n",
              "             End_Lng   Distance(mi)  Temperature(F)  Wind_Chill(F)  \\\n",
              "count  279623.000000  500000.000000   489534.000000  370983.000000   \n",
              "mean      -95.776553       0.564317       61.646254      58.229028   \n",
              "std        18.120211       1.774872       19.000133      22.352246   \n",
              "min      -124.497419       0.000000      -77.800000     -53.200000   \n",
              "25%      -117.778324       0.000000       49.000000      43.000000   \n",
              "50%       -88.039013       0.029000       64.000000      62.000000   \n",
              "75%       -80.252449       0.465000       76.000000      75.000000   \n",
              "max       -67.484130     193.479996      207.000000     207.000000   \n",
              "\n",
              "         Humidity(%)   Pressure(in)  Visibility(mi)  Wind_Speed(mph)  \\\n",
              "count  488870.000000  491072.000000   488709.000000    463013.000000   \n",
              "mean       64.834921      29.536621        9.091540         7.681347   \n",
              "std        22.826158       1.008666        2.708083         5.431361   \n",
              "min         1.000000       0.120000        0.000000         0.000000   \n",
              "25%        48.000000      29.370000       10.000000         4.600000   \n",
              "50%        67.000000      29.860000       10.000000         7.000000   \n",
              "75%        84.000000      30.030000       10.000000        10.400000   \n",
              "max       100.000000      38.440000      130.000000       822.800000   \n",
              "\n",
              "       Precipitation(in)  \n",
              "count      357384.000000  \n",
              "mean            0.008289  \n",
              "std             0.101865  \n",
              "min             0.000000  \n",
              "25%             0.000000  \n",
              "50%             0.000000  \n",
              "75%             0.000000  \n",
              "max            10.130000  "
            ]
          },
          "execution_count": 95,
          "metadata": {},
          "output_type": "execute_result"
        }
      ],
      "source": [
        "df.describe()"
      ]
    },
    {
      "cell_type": "markdown",
      "metadata": {
        "id": "PIu0tc0u1wbV"
      },
      "source": [
        "**Data visualization:**"
      ]
    },
    {
      "cell_type": "code",
      "execution_count": 111,
      "metadata": {
        "colab": {
          "base_uri": "https://localhost:8080/",
          "height": 1000
        },
        "id": "Dpch78Br1z79",
        "outputId": "078410d2-890a-4108-cc7a-5acd5260615e"
      },
      "outputs": [
        {
          "data": {
            "image/png": "[encoded data removed]",
            "text/plain": [
              "<Figure size 864x288 with 2 Axes>"
            ]
          },
          "metadata": {
            "needs_background": "light"
          },
          "output_type": "display_data"
        },
        {
          "data": {
            "image/png": "[encoded data removed]",
            "text/plain": [
              "<Figure size 864x288 with 2 Axes>"
            ]
          },
          "metadata": {
            "needs_background": "light"
          },
          "output_type": "display_data"
        },
        {
          "data": {
            "image/png": "[encoded data removed]",
            "text/plain": [
              "<Figure size 864x288 with 2 Axes>"
            ]
          },
          "metadata": {
            "needs_background": "light"
          },
          "output_type": "display_data"
        },
        {
          "data": {
            "image/png": "[encoded data removed]",
            "text/plain": [
              "<Figure size 864x288 with 2 Axes>"
            ]
          },
          "metadata": {
            "needs_background": "light"
          },
          "output_type": "display_data"
        },
        {
          "data": {
            "image/png": "[encoded data removed]",
            "text/plain": [
              "<Figure size 864x288 with 2 Axes>"
            ]
          },
          "metadata": {
            "needs_background": "light"
          },
          "output_type": "display_data"
        },
        {
          "data": {
            "image/png": "[encoded data removed]",
            "text/plain": [
              "<Figure size 864x288 with 2 Axes>"
            ]
          },
          "metadata": {
            "needs_background": "light"
          },
          "output_type": "display_data"
        },
        {
          "data": {
            "image/png": "[encoded data removed]",
            "text/plain": [
              "<Figure size 864x288 with 2 Axes>"
            ]
          },
          "metadata": {
            "needs_background": "light"
          },
          "output_type": "display_data"
        },
        {
          "data": {
            "image/png": "[encoded data removed]",
            "text/plain": [
              "<Figure size 864x288 with 2 Axes>"
            ]
          },
          "metadata": {
            "needs_background": "light"
          },
          "output_type": "display_data"
        },
        {
          "data": {
            "image/png": "[encoded data removed]",
            "text/plain": [
              "<Figure size 864x288 with 2 Axes>"
            ]
          },
          "metadata": {
            "needs_background": "light"
          },
          "output_type": "display_data"
        }
      ],
      "source": [
        "\n",
        "# Histograms and Boxplots for some numeric features\n",
        "numeric_features = ['Severity', 'Temperature(F)', 'Humidity(%)', 'Pressure(in)', 'Visibility(mi)', 'Wind_Speed(mph)', 'Distance(mi)', 'Precipitation(in)', 'Wind_Chill(F)']\n",
        "\n",
        "for feature in numeric_features:\n",
        "    fig, axes = plt.subplots(1, 2, figsize=(12, 4))\n",
        "\n",
        "    # Histogram\n",
        "    sns.histplot(df[feature].dropna(), kde=True, ax=axes[0], color='skyblue')\n",
        "    axes[0].set_title(f'Histogram of {feature}')\n",
        "\n",
        "    # Boxplot\n",
        "    sns.boxplot(x=df[feature], ax=axes[1], color='lightgreen')\n",
        "    axes[1].set_title(f'Boxplot of {feature}')\n",
        "\n",
        "    plt.tight_layout()\n",
        "    plt.show()"
      ]
    },
    {
      "cell_type": "markdown",
      "metadata": {
        "id": "GcUln-IitwT9"
      },
      "source": [
        "**Correlation Analysis:**"
      ]
    },
    {
      "cell_type": "code",
      "execution_count": 106,
      "metadata": {
        "colab": {
          "base_uri": "https://localhost:8080/",
          "height": 658
        },
        "id": "AgrJecLht4ED",
        "outputId": "5094dece-4fb5-4555-a7de-c0c2d107ee85"
      },
      "outputs": [
        {
          "data": {
            "image/png": "[encoded data removed]",
            "text/plain": [
              "<Figure size 720x432 with 2 Axes>"
            ]
          },
          "metadata": {
            "needs_background": "light"
          },
          "output_type": "display_data"
        }
      ],
      "source": [
        "# Correlation Heatmap\n",
        "num_features = ['Severity', 'Temperature(F)', 'Humidity(%)', 'Pressure(in)', 'Visibility(mi)', 'Wind_Speed(mph)', 'Distance(mi)', 'Precipitation(in)', 'Wind_Chill(F)']\n",
        "plt.figure(figsize=(10, 6))\n",
        "sns.heatmap(df[num_features].corr(), annot=True, cmap='coolwarm', fmt='.2f')\n",
        "plt.title('Correlation Heatmap')\n",
        "plt.show()"
      ]
    },
    {
      "cell_type": "code",
      "execution_count": 110,
      "metadata": {
        "colab": {
          "base_uri": "https://localhost:8080/"
        },
        "id": "6863upczuNz1",
        "outputId": "d82ec258-3cc3-4eb1-fe35-223c8bbd8fe7"
      },
      "outputs": [
        {
          "name": "stdout",
          "output_type": "stream",
          "text": [
            "Severity                0\n",
            "Temperature(F)          0\n",
            "Humidity(%)             0\n",
            "Pressure(in)            0\n",
            "Visibility(mi)       6706\n",
            "Wind_Speed(mph)         0\n",
            "Distance(mi)         2881\n",
            "Precipitation(in)       0\n",
            "Wind_Chill(F)           0\n",
            "dtype: int64\n"
          ]
        }
      ],
      "source": [
        "# Z-score for Outlier Detection\n",
        "from scipy.stats import zscore\n",
        "z_scores = np.abs(zscore(df[num_features].dropna()))\n",
        "outlier_counts = pd.Series((z_scores > 3).sum(axis=0), index=num_features)\n",
        "print(outlier_counts)"
      ]
    },
    {
      "cell_type": "markdown",
      "metadata": {
        "id": "YmvvzMnhrKTe"
      },
      "source": [
        "**Observation:**\n",
        "\n",
        "- The dataset contains 500,000 rows and over 40 columns. Some fields are datetime, some are numeric, and others categorical.\n",
        "\n",
        "- The data is heavily skewed on severity 2 (Class 0).\n",
        "\n",
        "- There aren't missing values. But a significant number of duplicates were found in coordinates.\n",
        "\n",
        "- The distribution plots (histograms and boxplots) revealed notable skewness in several numeric features, indicating potential outliers or imbalances that may affect model performance.\n",
        "\n",
        "- Bar plots of categorical variables showed significant class imbalance in features like source_source2, which may have influenced the target prediction.\n",
        "\n",
        "- The correlation heatmap highlighted a few moderate correlations between certain features and the target variable, suggesting weak linear relationships.\n",
        "\n",
        "- No features showed extremely high inter-correlation, meaning multicollinearity is unlikely to be a major issue.\n",
        "\n",
        "- Wind_Chill(F) is basically Temprature(F)"
      ]
    },
    {
      "cell_type": "markdown",
      "metadata": {
        "id": "dPNCx2rRxMEM"
      },
      "source": [
        "## 3. Data Preprocessing Steps"
      ]
    },
    {
      "cell_type": "markdown",
      "metadata": {
        "id": "PbRwLwi61P0E"
      },
      "source": [
        "- Dropped high-missing or irrelevant columns (e.g. Zipcode, Description, all different twilights)"
      ]
    },
    {
      "cell_type": "code",
      "execution_count": 108,
      "metadata": {
        "id": "0Xj4Zehv1Rnh"
      },
      "outputs": [],
      "source": [
        "# Drop highly missing or irrelevant columns\n",
        "drop_cols = ['Weather_Timestamp', 'County', 'State', 'Street', 'Country', 'Timezone', 'Zipcode', 'Airport_Code', 'Turning_Loop', 'End_Lat', 'End_Lng', 'Description', 'Civil_Twilight', 'Nautical_Twilight', 'Astronomical_Twilight']\n",
        "df.drop(columns=drop_cols, inplace=True)"
      ]
    },
    {
      "cell_type": "markdown",
      "metadata": {
        "id": "Pc9pQrmz1QF-"
      },
      "source": [
        "- Imputed missing values for both numeric (median) and categorical (mode) columns"
      ]
    },
    {
      "cell_type": "code",
      "execution_count": 112,
      "metadata": {
        "id": "Q0DqLoXG1f7Y"
      },
      "outputs": [],
      "source": [
        "# Fill categorical with mode\n",
        "df['Weather_Condition'].fillna('Unknown', inplace=True)\n",
        "df['Sunrise_Sunset'].fillna(df['Sunrise_Sunset'].mode()[0], inplace=True)\n",
        "df['Wind_Direction'].fillna(df['Wind_Direction'].mode()[0], inplace=True)\n",
        "\n",
        "# Fill numeric with median\n",
        "df.fillna(df.median(numeric_only=True), inplace=True)"
      ]
    },
    {
      "cell_type": "markdown",
      "metadata": {
        "id": "taCbqI0u1QTZ"
      },
      "source": [
        "- Converted Severity to binary target variable (Target)"
      ]
    },
    {
      "cell_type": "code",
      "execution_count": 113,
      "metadata": {
        "id": "e8zJn9l91gTu"
      },
      "outputs": [],
      "source": [
        "# Create binary target variable (Low vs High Severity)\n",
        "df['Target'] = df['Severity'].apply(lambda x: 1 if x >= 3 else 0)"
      ]
    },
    {
      "cell_type": "markdown",
      "metadata": {
        "id": "kyQBDGbcvgNB"
      },
      "source": [
        "- Encoded categorical features"
      ]
    },
    {
      "cell_type": "code",
      "execution_count": 114,
      "metadata": {
        "id": "UAQgdn3_vsTT"
      },
      "outputs": [],
      "source": [
        "# One-hot encode\n",
        "df_encoded = pd.get_dummies(df, columns=['Weather_Condition', 'Sunrise_Sunset', 'Source', 'City', 'Wind_Direction'], drop_first=True)"
      ]
    },
    {
      "cell_type": "markdown",
      "metadata": {},
      "source": [
        "- Removing 10th and 90th percentiles"
      ]
    },
    {
      "cell_type": "code",
      "execution_count": null,
      "metadata": {},
      "outputs": [],
      "source": [
        "# Calculate the 10th and 90th percentiles for numeric features\n",
        "percentiles = df[numeric_features].quantile([0.10, 0.90])\n",
        "\n",
        "# Filter the dataset to keep only rows within the 5th and 95th percentile range\n",
        "for feature in numeric_features:\n",
        "    lower_limit = percentiles.loc[0.10, feature]\n",
        "    upper_limit = percentiles.loc[0.90, feature]\n",
        "    df = df[(df[feature] >= lower_limit) & (df[feature] <= upper_limit)]\n",
        "\n",
        "# Display the updated dataset shape\n",
        "print(\"Dataset shape after outlier removal:\", df.shape)"
      ]
    },
    {
      "cell_type": "markdown",
      "metadata": {
        "id": "ECO7ir4lv2Eg"
      },
      "source": [
        "- Feature scaling"
      ]
    },
    {
      "cell_type": "code",
      "execution_count": 115,
      "metadata": {
        "id": "n8tg8WIqv8Y5"
      },
      "outputs": [],
      "source": [
        "from sklearn.preprocessing import StandardScaler\n",
        "\n",
        "scaler = StandardScaler()\n",
        "features_to_scale = ['Temperature(F)', 'Humidity(%)', 'Pressure(in)', 'Visibility(mi)', 'Wind_Speed(mph)']\n",
        "df_encoded[features_to_scale] = scaler.fit_transform(df_encoded[features_to_scale])"
      ]
    },
    {
      "cell_type": "markdown",
      "metadata": {
        "id": "hTPDAhUJxpyq"
      },
      "source": [
        "- Training and testing split"
      ]
    },
    {
      "cell_type": "code",
      "execution_count": 116,
      "metadata": {
        "id": "s5OFn9JvxtRT"
      },
      "outputs": [],
      "source": [
        "from sklearn.model_selection import train_test_split\n",
        "\n",
        "drop_cols = ['ID', 'Severity', 'Start_Time', 'End_Time', 'Start_Lat', 'Start_Lng']\n",
        "X = df_encoded.drop(columns=drop_cols + ['Target'])\n",
        "y = df_encoded['Target']\n",
        "\n",
        "X_train, X_test, y_train, y_test = train_test_split(X, y, test_size=0.25, random_state=42)\n"
      ]
    },
    {
      "cell_type": "code",
      "execution_count": 117,
      "metadata": {
        "colab": {
          "base_uri": "https://localhost:8080/",
          "height": 330
        },
        "id": "DYXCnBtb24CK",
        "outputId": "78d2b54e-6d4b-46c1-a530-12f0144a7f6b"
      },
      "outputs": [
        {
          "data": {
            "text/html": [
              "<div>\n",
              "<style scoped>\n",
              "    .dataframe tbody tr th:only-of-type {\n",
              "        vertical-align: middle;\n",
              "    }\n",
              "\n",
              "    .dataframe tbody tr th {\n",
              "        vertical-align: top;\n",
              "    }\n",
              "\n",
              "    .dataframe thead th {\n",
              "        text-align: right;\n",
              "    }\n",
              "</style>\n",
              "<table border=\"1\" class=\"dataframe\">\n",
              "  <thead>\n",
              "    <tr style=\"text-align: right;\">\n",
              "      <th></th>\n",
              "      <th>ID</th>\n",
              "      <th>Source</th>\n",
              "      <th>Severity</th>\n",
              "      <th>Start_Time</th>\n",
              "      <th>End_Time</th>\n",
              "      <th>Start_Lat</th>\n",
              "      <th>Start_Lng</th>\n",
              "      <th>Distance(mi)</th>\n",
              "      <th>City</th>\n",
              "      <th>Temperature(F)</th>\n",
              "      <th>Wind_Chill(F)</th>\n",
              "      <th>Humidity(%)</th>\n",
              "      <th>Pressure(in)</th>\n",
              "      <th>Visibility(mi)</th>\n",
              "      <th>Wind_Direction</th>\n",
              "      <th>Wind_Speed(mph)</th>\n",
              "      <th>Precipitation(in)</th>\n",
              "      <th>Weather_Condition</th>\n",
              "      <th>Amenity</th>\n",
              "      <th>Bump</th>\n",
              "      <th>Crossing</th>\n",
              "      <th>Give_Way</th>\n",
              "      <th>Junction</th>\n",
              "      <th>No_Exit</th>\n",
              "      <th>Railway</th>\n",
              "      <th>Roundabout</th>\n",
              "      <th>Station</th>\n",
              "      <th>Stop</th>\n",
              "      <th>Traffic_Calming</th>\n",
              "      <th>Traffic_Signal</th>\n",
              "      <th>Sunrise_Sunset</th>\n",
              "      <th>Target</th>\n",
              "    </tr>\n",
              "  </thead>\n",
              "  <tbody>\n",
              "    <tr>\n",
              "      <th>0</th>\n",
              "      <td>A-2047758</td>\n",
              "      <td>Source2</td>\n",
              "      <td>2</td>\n",
              "      <td>2019-06-12 10:10:56</td>\n",
              "      <td>2019-06-12 10:55:58</td>\n",
              "      <td>30.641211</td>\n",
              "      <td>-91.153481</td>\n",
              "      <td>0.000</td>\n",
              "      <td>Zachary</td>\n",
              "      <td>77.0</td>\n",
              "      <td>77.0</td>\n",
              "      <td>62.0</td>\n",
              "      <td>29.92</td>\n",
              "      <td>10.0</td>\n",
              "      <td>NW</td>\n",
              "      <td>5.0</td>\n",
              "      <td>0.0</td>\n",
              "      <td>Fair</td>\n",
              "      <td>False</td>\n",
              "      <td>False</td>\n",
              "      <td>False</td>\n",
              "      <td>False</td>\n",
              "      <td>False</td>\n",
              "      <td>False</td>\n",
              "      <td>False</td>\n",
              "      <td>False</td>\n",
              "      <td>False</td>\n",
              "      <td>False</td>\n",
              "      <td>False</td>\n",
              "      <td>True</td>\n",
              "      <td>Day</td>\n",
              "      <td>0</td>\n",
              "    </tr>\n",
              "    <tr>\n",
              "      <th>1</th>\n",
              "      <td>A-4694324</td>\n",
              "      <td>Source1</td>\n",
              "      <td>2</td>\n",
              "      <td>2022-12-03 23:37:14.000000000</td>\n",
              "      <td>2022-12-04 01:56:53.000000000</td>\n",
              "      <td>38.990562</td>\n",
              "      <td>-77.399070</td>\n",
              "      <td>0.056</td>\n",
              "      <td>Sterling</td>\n",
              "      <td>45.0</td>\n",
              "      <td>43.0</td>\n",
              "      <td>48.0</td>\n",
              "      <td>29.91</td>\n",
              "      <td>10.0</td>\n",
              "      <td>W</td>\n",
              "      <td>5.0</td>\n",
              "      <td>0.0</td>\n",
              "      <td>Fair</td>\n",
              "      <td>False</td>\n",
              "      <td>False</td>\n",
              "      <td>False</td>\n",
              "      <td>False</td>\n",
              "      <td>False</td>\n",
              "      <td>False</td>\n",
              "      <td>False</td>\n",
              "      <td>False</td>\n",
              "      <td>False</td>\n",
              "      <td>False</td>\n",
              "      <td>False</td>\n",
              "      <td>False</td>\n",
              "      <td>Night</td>\n",
              "      <td>0</td>\n",
              "    </tr>\n",
              "    <tr>\n",
              "      <th>2</th>\n",
              "      <td>A-5006183</td>\n",
              "      <td>Source1</td>\n",
              "      <td>2</td>\n",
              "      <td>2022-08-20 13:13:00.000000000</td>\n",
              "      <td>2022-08-20 15:22:45.000000000</td>\n",
              "      <td>34.661189</td>\n",
              "      <td>-120.492822</td>\n",
              "      <td>0.022</td>\n",
              "      <td>Lompoc</td>\n",
              "      <td>68.0</td>\n",
              "      <td>68.0</td>\n",
              "      <td>73.0</td>\n",
              "      <td>29.79</td>\n",
              "      <td>10.0</td>\n",
              "      <td>W</td>\n",
              "      <td>13.0</td>\n",
              "      <td>0.0</td>\n",
              "      <td>Fair</td>\n",
              "      <td>False</td>\n",
              "      <td>False</td>\n",
              "      <td>False</td>\n",
              "      <td>False</td>\n",
              "      <td>False</td>\n",
              "      <td>False</td>\n",
              "      <td>False</td>\n",
              "      <td>False</td>\n",
              "      <td>False</td>\n",
              "      <td>False</td>\n",
              "      <td>False</td>\n",
              "      <td>True</td>\n",
              "      <td>Day</td>\n",
              "      <td>0</td>\n",
              "    </tr>\n",
              "    <tr>\n",
              "      <th>4</th>\n",
              "      <td>A-6690583</td>\n",
              "      <td>Source1</td>\n",
              "      <td>2</td>\n",
              "      <td>2020-12-04 01:46:00</td>\n",
              "      <td>2020-12-04 04:13:09</td>\n",
              "      <td>35.395484</td>\n",
              "      <td>-118.985176</td>\n",
              "      <td>0.046</td>\n",
              "      <td>Bakersfield</td>\n",
              "      <td>42.0</td>\n",
              "      <td>42.0</td>\n",
              "      <td>34.0</td>\n",
              "      <td>29.77</td>\n",
              "      <td>10.0</td>\n",
              "      <td>CALM</td>\n",
              "      <td>0.0</td>\n",
              "      <td>0.0</td>\n",
              "      <td>Fair</td>\n",
              "      <td>False</td>\n",
              "      <td>False</td>\n",
              "      <td>False</td>\n",
              "      <td>False</td>\n",
              "      <td>False</td>\n",
              "      <td>False</td>\n",
              "      <td>False</td>\n",
              "      <td>False</td>\n",
              "      <td>False</td>\n",
              "      <td>False</td>\n",
              "      <td>False</td>\n",
              "      <td>False</td>\n",
              "      <td>Night</td>\n",
              "      <td>0</td>\n",
              "    </tr>\n",
              "    <tr>\n",
              "      <th>5</th>\n",
              "      <td>A-1101469</td>\n",
              "      <td>Source2</td>\n",
              "      <td>2</td>\n",
              "      <td>2021-03-29 07:03:58</td>\n",
              "      <td>2021-03-29 08:51:01</td>\n",
              "      <td>42.532082</td>\n",
              "      <td>-70.944267</td>\n",
              "      <td>0.000</td>\n",
              "      <td>Peabody</td>\n",
              "      <td>42.0</td>\n",
              "      <td>35.0</td>\n",
              "      <td>58.0</td>\n",
              "      <td>29.37</td>\n",
              "      <td>10.0</td>\n",
              "      <td>W</td>\n",
              "      <td>13.0</td>\n",
              "      <td>0.0</td>\n",
              "      <td>Fair</td>\n",
              "      <td>False</td>\n",
              "      <td>False</td>\n",
              "      <td>False</td>\n",
              "      <td>False</td>\n",
              "      <td>False</td>\n",
              "      <td>False</td>\n",
              "      <td>False</td>\n",
              "      <td>False</td>\n",
              "      <td>False</td>\n",
              "      <td>False</td>\n",
              "      <td>False</td>\n",
              "      <td>True</td>\n",
              "      <td>Day</td>\n",
              "      <td>0</td>\n",
              "    </tr>\n",
              "  </tbody>\n",
              "</table>\n",
              "</div>"
            ],
            "text/plain": [
              "          ID   Source  Severity                     Start_Time  \\\n",
              "0  A-2047758  Source2         2            2019-06-12 10:10:56   \n",
              "1  A-4694324  Source1         2  2022-12-03 23:37:14.000000000   \n",
              "2  A-5006183  Source1         2  2022-08-20 13:13:00.000000000   \n",
              "4  A-6690583  Source1         2            2020-12-04 01:46:00   \n",
              "5  A-1101469  Source2         2            2021-03-29 07:03:58   \n",
              "\n",
              "                        End_Time  Start_Lat   Start_Lng  Distance(mi)  \\\n",
              "0            2019-06-12 10:55:58  30.641211  -91.153481         0.000   \n",
              "1  2022-12-04 01:56:53.000000000  38.990562  -77.399070         0.056   \n",
              "2  2022-08-20 15:22:45.000000000  34.661189 -120.492822         0.022   \n",
              "4            2020-12-04 04:13:09  35.395484 -118.985176         0.046   \n",
              "5            2021-03-29 08:51:01  42.532082  -70.944267         0.000   \n",
              "\n",
              "          City  Temperature(F)  Wind_Chill(F)  Humidity(%)  Pressure(in)  \\\n",
              "0      Zachary            77.0           77.0         62.0         29.92   \n",
              "1     Sterling            45.0           43.0         48.0         29.91   \n",
              "2       Lompoc            68.0           68.0         73.0         29.79   \n",
              "4  Bakersfield            42.0           42.0         34.0         29.77   \n",
              "5      Peabody            42.0           35.0         58.0         29.37   \n",
              "\n",
              "   Visibility(mi) Wind_Direction  Wind_Speed(mph)  Precipitation(in)  \\\n",
              "0            10.0             NW              5.0                0.0   \n",
              "1            10.0              W              5.0                0.0   \n",
              "2            10.0              W             13.0                0.0   \n",
              "4            10.0           CALM              0.0                0.0   \n",
              "5            10.0              W             13.0                0.0   \n",
              "\n",
              "  Weather_Condition  Amenity   Bump  Crossing  Give_Way  Junction  No_Exit  \\\n",
              "0              Fair    False  False     False     False     False    False   \n",
              "1              Fair    False  False     False     False     False    False   \n",
              "2              Fair    False  False     False     False     False    False   \n",
              "4              Fair    False  False     False     False     False    False   \n",
              "5              Fair    False  False     False     False     False    False   \n",
              "\n",
              "   Railway  Roundabout  Station   Stop  Traffic_Calming  Traffic_Signal  \\\n",
              "0    False       False    False  False            False            True   \n",
              "1    False       False    False  False            False           False   \n",
              "2    False       False    False  False            False            True   \n",
              "4    False       False    False  False            False           False   \n",
              "5    False       False    False  False            False            True   \n",
              "\n",
              "  Sunrise_Sunset  Target  \n",
              "0            Day       0  \n",
              "1          Night       0  \n",
              "2            Day       0  \n",
              "4          Night       0  \n",
              "5            Day       0  "
            ]
          },
          "execution_count": 117,
          "metadata": {},
          "output_type": "execute_result"
        }
      ],
      "source": [
        "df.head()"
      ]
    },
    {
      "cell_type": "code",
      "execution_count": 118,
      "metadata": {
        "colab": {
          "base_uri": "https://localhost:8080/",
          "height": 320
        },
        "id": "vzZoRzDX3a4U",
        "outputId": "e07a54ab-a2d4-43b1-9b97-b70ad138e3d1"
      },
      "outputs": [
        {
          "data": {
            "text/html": [
              "<div>\n",
              "<style scoped>\n",
              "    .dataframe tbody tr th:only-of-type {\n",
              "        vertical-align: middle;\n",
              "    }\n",
              "\n",
              "    .dataframe tbody tr th {\n",
              "        vertical-align: top;\n",
              "    }\n",
              "\n",
              "    .dataframe thead th {\n",
              "        text-align: right;\n",
              "    }\n",
              "</style>\n",
              "<table border=\"1\" class=\"dataframe\">\n",
              "  <thead>\n",
              "    <tr style=\"text-align: right;\">\n",
              "      <th></th>\n",
              "      <th>Severity</th>\n",
              "      <th>Start_Lat</th>\n",
              "      <th>Start_Lng</th>\n",
              "      <th>Distance(mi)</th>\n",
              "      <th>Temperature(F)</th>\n",
              "      <th>Wind_Chill(F)</th>\n",
              "      <th>Humidity(%)</th>\n",
              "      <th>Pressure(in)</th>\n",
              "      <th>Visibility(mi)</th>\n",
              "      <th>Wind_Speed(mph)</th>\n",
              "      <th>Precipitation(in)</th>\n",
              "      <th>Target</th>\n",
              "    </tr>\n",
              "  </thead>\n",
              "  <tbody>\n",
              "    <tr>\n",
              "      <th>count</th>\n",
              "      <td>138421.000000</td>\n",
              "      <td>138421.000000</td>\n",
              "      <td>138421.000000</td>\n",
              "      <td>138421.000000</td>\n",
              "      <td>138421.000000</td>\n",
              "      <td>138421.000000</td>\n",
              "      <td>138421.000000</td>\n",
              "      <td>138421.000000</td>\n",
              "      <td>138421.000000</td>\n",
              "      <td>138421.000000</td>\n",
              "      <td>138421.0</td>\n",
              "      <td>138421.000000</td>\n",
              "    </tr>\n",
              "    <tr>\n",
              "      <th>mean</th>\n",
              "      <td>2.119361</td>\n",
              "      <td>35.310460</td>\n",
              "      <td>-94.160742</td>\n",
              "      <td>0.222528</td>\n",
              "      <td>63.992304</td>\n",
              "      <td>63.488998</td>\n",
              "      <td>66.336661</td>\n",
              "      <td>29.683021</td>\n",
              "      <td>9.746361</td>\n",
              "      <td>6.266763</td>\n",
              "      <td>0.0</td>\n",
              "      <td>0.119361</td>\n",
              "    </tr>\n",
              "    <tr>\n",
              "      <th>std</th>\n",
              "      <td>0.324213</td>\n",
              "      <td>5.035976</td>\n",
              "      <td>17.794523</td>\n",
              "      <td>0.342399</td>\n",
              "      <td>13.147061</td>\n",
              "      <td>14.049517</td>\n",
              "      <td>16.637461</td>\n",
              "      <td>0.349645</td>\n",
              "      <td>0.878675</td>\n",
              "      <td>4.258228</td>\n",
              "      <td>0.0</td>\n",
              "      <td>0.324213</td>\n",
              "    </tr>\n",
              "    <tr>\n",
              "      <th>min</th>\n",
              "      <td>2.000000</td>\n",
              "      <td>24.562117</td>\n",
              "      <td>-124.494330</td>\n",
              "      <td>0.000000</td>\n",
              "      <td>35.000000</td>\n",
              "      <td>27.000000</td>\n",
              "      <td>32.000000</td>\n",
              "      <td>28.840000</td>\n",
              "      <td>5.000000</td>\n",
              "      <td>0.000000</td>\n",
              "      <td>0.0</td>\n",
              "      <td>0.000000</td>\n",
              "    </tr>\n",
              "    <tr>\n",
              "      <th>25%</th>\n",
              "      <td>2.000000</td>\n",
              "      <td>32.771970</td>\n",
              "      <td>-117.868238</td>\n",
              "      <td>0.000000</td>\n",
              "      <td>54.000000</td>\n",
              "      <td>54.000000</td>\n",
              "      <td>53.000000</td>\n",
              "      <td>29.410000</td>\n",
              "      <td>10.000000</td>\n",
              "      <td>3.000000</td>\n",
              "      <td>0.0</td>\n",
              "      <td>0.000000</td>\n",
              "    </tr>\n",
              "    <tr>\n",
              "      <th>50%</th>\n",
              "      <td>2.000000</td>\n",
              "      <td>34.917820</td>\n",
              "      <td>-86.180466</td>\n",
              "      <td>0.049000</td>\n",
              "      <td>66.000000</td>\n",
              "      <td>66.000000</td>\n",
              "      <td>68.000000</td>\n",
              "      <td>29.790000</td>\n",
              "      <td>10.000000</td>\n",
              "      <td>6.000000</td>\n",
              "      <td>0.0</td>\n",
              "      <td>0.000000</td>\n",
              "    </tr>\n",
              "    <tr>\n",
              "      <th>75%</th>\n",
              "      <td>2.000000</td>\n",
              "      <td>38.924682</td>\n",
              "      <td>-80.321634</td>\n",
              "      <td>0.298000</td>\n",
              "      <td>75.000000</td>\n",
              "      <td>75.000000</td>\n",
              "      <td>80.000000</td>\n",
              "      <td>29.970000</td>\n",
              "      <td>10.000000</td>\n",
              "      <td>9.000000</td>\n",
              "      <td>0.0</td>\n",
              "      <td>0.000000</td>\n",
              "    </tr>\n",
              "    <tr>\n",
              "      <th>max</th>\n",
              "      <td>3.000000</td>\n",
              "      <td>48.976715</td>\n",
              "      <td>-68.365955</td>\n",
              "      <td>1.471000</td>\n",
              "      <td>84.000000</td>\n",
              "      <td>84.000000</td>\n",
              "      <td>93.000000</td>\n",
              "      <td>30.170000</td>\n",
              "      <td>10.000000</td>\n",
              "      <td>15.000000</td>\n",
              "      <td>0.0</td>\n",
              "      <td>1.000000</td>\n",
              "    </tr>\n",
              "  </tbody>\n",
              "</table>\n",
              "</div>"
            ],
            "text/plain": [
              "            Severity      Start_Lat      Start_Lng   Distance(mi)  \\\n",
              "count  138421.000000  138421.000000  138421.000000  138421.000000   \n",
              "mean        2.119361      35.310460     -94.160742       0.222528   \n",
              "std         0.324213       5.035976      17.794523       0.342399   \n",
              "min         2.000000      24.562117    -124.494330       0.000000   \n",
              "25%         2.000000      32.771970    -117.868238       0.000000   \n",
              "50%         2.000000      34.917820     -86.180466       0.049000   \n",
              "75%         2.000000      38.924682     -80.321634       0.298000   \n",
              "max         3.000000      48.976715     -68.365955       1.471000   \n",
              "\n",
              "       Temperature(F)  Wind_Chill(F)    Humidity(%)   Pressure(in)  \\\n",
              "count   138421.000000  138421.000000  138421.000000  138421.000000   \n",
              "mean        63.992304      63.488998      66.336661      29.683021   \n",
              "std         13.147061      14.049517      16.637461       0.349645   \n",
              "min         35.000000      27.000000      32.000000      28.840000   \n",
              "25%         54.000000      54.000000      53.000000      29.410000   \n",
              "50%         66.000000      66.000000      68.000000      29.790000   \n",
              "75%         75.000000      75.000000      80.000000      29.970000   \n",
              "max         84.000000      84.000000      93.000000      30.170000   \n",
              "\n",
              "       Visibility(mi)  Wind_Speed(mph)  Precipitation(in)         Target  \n",
              "count   138421.000000    138421.000000           138421.0  138421.000000  \n",
              "mean         9.746361         6.266763                0.0       0.119361  \n",
              "std          0.878675         4.258228                0.0       0.324213  \n",
              "min          5.000000         0.000000                0.0       0.000000  \n",
              "25%         10.000000         3.000000                0.0       0.000000  \n",
              "50%         10.000000         6.000000                0.0       0.000000  \n",
              "75%         10.000000         9.000000                0.0       0.000000  \n",
              "max         10.000000        15.000000                0.0       1.000000  "
            ]
          },
          "execution_count": 118,
          "metadata": {},
          "output_type": "execute_result"
        }
      ],
      "source": [
        "df.describe()"
      ]
    },
    {
      "cell_type": "code",
      "execution_count": 119,
      "metadata": {
        "colab": {
          "base_uri": "https://localhost:8080/"
        },
        "id": "hbDIA6Wt5aii",
        "outputId": "d7bb06d0-e7f6-4437-b1da-9966263d410d"
      },
      "outputs": [
        {
          "name": "stdout",
          "output_type": "stream",
          "text": [
            "<class 'pandas.core.frame.DataFrame'>\n",
            "Int64Index: 138421 entries, 0 to 499999\n",
            "Data columns (total 32 columns):\n",
            " #   Column             Non-Null Count   Dtype  \n",
            "---  ------             --------------   -----  \n",
            " 0   ID                 138421 non-null  object \n",
            " 1   Source             138421 non-null  object \n",
            " 2   Severity           138421 non-null  int64  \n",
            " 3   Start_Time         138421 non-null  object \n",
            " 4   End_Time           138421 non-null  object \n",
            " 5   Start_Lat          138421 non-null  float64\n",
            " 6   Start_Lng          138421 non-null  float64\n",
            " 7   Distance(mi)       138421 non-null  float64\n",
            " 8   City               138412 non-null  object \n",
            " 9   Temperature(F)     138421 non-null  float64\n",
            " 10  Wind_Chill(F)      138421 non-null  float64\n",
            " 11  Humidity(%)        138421 non-null  float64\n",
            " 12  Pressure(in)       138421 non-null  float64\n",
            " 13  Visibility(mi)     138421 non-null  float64\n",
            " 14  Wind_Direction     138421 non-null  object \n",
            " 15  Wind_Speed(mph)    138421 non-null  float64\n",
            " 16  Precipitation(in)  138421 non-null  float64\n",
            " 17  Weather_Condition  138421 non-null  object \n",
            " 18  Amenity            138421 non-null  bool   \n",
            " 19  Bump               138421 non-null  bool   \n",
            " 20  Crossing           138421 non-null  bool   \n",
            " 21  Give_Way           138421 non-null  bool   \n",
            " 22  Junction           138421 non-null  bool   \n",
            " 23  No_Exit            138421 non-null  bool   \n",
            " 24  Railway            138421 non-null  bool   \n",
            " 25  Roundabout         138421 non-null  bool   \n",
            " 26  Station            138421 non-null  bool   \n",
            " 27  Stop               138421 non-null  bool   \n",
            " 28  Traffic_Calming    138421 non-null  bool   \n",
            " 29  Traffic_Signal     138421 non-null  bool   \n",
            " 30  Sunrise_Sunset     138421 non-null  object \n",
            " 31  Target             138421 non-null  int64  \n",
            "dtypes: bool(12), float64(10), int64(2), object(8)\n",
            "memory usage: 27.8+ MB\n"
          ]
        }
      ],
      "source": [
        "# Basic Info\n",
        "df.info()"
      ]
    },
    {
      "cell_type": "markdown",
      "metadata": {
        "id": "f64BphCHz2qZ"
      },
      "source": [
        "## 4. Modeling Approach"
      ]
    },
    {
      "cell_type": "markdown",
      "metadata": {
        "id": "3r_KJrOvz47E"
      },
      "source": [
        "**Models:**\n",
        "\n",
        "- Decision Tree Classifier (for interpretability)\n",
        "\n",
        "- Random Forest Classifier (for robustness and performance)\n",
        "\n",
        "- Naive Bayes (as a simple baseline)"
      ]
    },
    {
      "cell_type": "markdown",
      "metadata": {},
      "source": [
        "**Visualization:**"
      ]
    },
    {
      "cell_type": "code",
      "execution_count": 120,
      "metadata": {},
      "outputs": [
        {
          "data": {
            "image/png": "[encoded data removed]",
            "text/plain": [
              "<Figure size 864x576 with 6 Axes>"
            ]
          },
          "metadata": {
            "needs_background": "light"
          },
          "output_type": "display_data"
        },
        {
          "data": {
            "image/png": "[encoded data removed]",
            "text/plain": [
              "<Figure size 864x432 with 1 Axes>"
            ]
          },
          "metadata": {
            "needs_background": "light"
          },
          "output_type": "display_data"
        },
        {
          "data": {
            "image/png": "[encoded data removed]",
            "text/plain": [
              "<Figure size 432x288 with 1 Axes>"
            ]
          },
          "metadata": {
            "needs_background": "light"
          },
          "output_type": "display_data"
        }
      ],
      "source": [
        "import matplotlib.pyplot as plt\n",
        "import seaborn as sns\n",
        "\n",
        "# Histograms\n",
        "df[features_to_scale].hist(bins=30, figsize=(12, 8))\n",
        "plt.suptitle('Distribution of Numerical Features')\n",
        "plt.tight_layout()\n",
        "plt.show()\n",
        "\n",
        "# Boxplots (for outlier visualization)\n",
        "plt.figure(figsize=(12, 6))\n",
        "sns.boxplot(data=df[features_to_scale])\n",
        "plt.title('Boxplots of Scaled Numerical Features')\n",
        "plt.xticks(rotation=45)\n",
        "plt.show()\n",
        "\n",
        "# Bar plot for class balance\n",
        "sns.countplot(x='Target', data=df)\n",
        "plt.title('Class Distribution of Target Variable')\n",
        "plt.show()\n"
      ]
    },
    {
      "cell_type": "markdown",
      "metadata": {},
      "source": [
        "**Feature importance:**\n",
        "\n",
        "For Decision tree and Random Forest"
      ]
    },
    {
      "cell_type": "code",
      "execution_count": 126,
      "metadata": {},
      "outputs": [
        {
          "ename": "IndexError",
          "evalue": "index 9639 is out of bounds for axis 0 with size 5394",
          "output_type": "error",
          "traceback": [
            "\u001b[1;31m---------------------------------------------------------------------------\u001b[0m",
            "\u001b[1;31mIndexError\u001b[0m                                Traceback (most recent call last)",
            "\u001b[1;32m~\\AppData\\Local\\Temp/ipykernel_12420/3157683333.py\u001b[0m in \u001b[0;36m<module>\u001b[1;34m\u001b[0m\n\u001b[0;32m      5\u001b[0m \u001b[0mplt\u001b[0m\u001b[1;33m.\u001b[0m\u001b[0mfigure\u001b[0m\u001b[1;33m(\u001b[0m\u001b[0mfigsize\u001b[0m\u001b[1;33m=\u001b[0m\u001b[1;33m(\u001b[0m\u001b[1;36m10\u001b[0m\u001b[1;33m,\u001b[0m \u001b[1;36m8\u001b[0m\u001b[1;33m)\u001b[0m\u001b[1;33m)\u001b[0m\u001b[1;33m\u001b[0m\u001b[1;33m\u001b[0m\u001b[0m\n\u001b[0;32m      6\u001b[0m \u001b[0mplt\u001b[0m\u001b[1;33m.\u001b[0m\u001b[0mbarh\u001b[0m\u001b[1;33m(\u001b[0m\u001b[0mrange\u001b[0m\u001b[1;33m(\u001b[0m\u001b[0mlen\u001b[0m\u001b[1;33m(\u001b[0m\u001b[0mindices\u001b[0m\u001b[1;33m)\u001b[0m\u001b[1;33m)\u001b[0m\u001b[1;33m,\u001b[0m \u001b[0mimportances\u001b[0m\u001b[1;33m[\u001b[0m\u001b[0mindices\u001b[0m\u001b[1;33m]\u001b[0m\u001b[1;33m,\u001b[0m \u001b[0malign\u001b[0m\u001b[1;33m=\u001b[0m\u001b[1;34m'center'\u001b[0m\u001b[1;33m)\u001b[0m\u001b[1;33m\u001b[0m\u001b[1;33m\u001b[0m\u001b[0m\n\u001b[1;32m----> 7\u001b[1;33m \u001b[0mplt\u001b[0m\u001b[1;33m.\u001b[0m\u001b[0myticks\u001b[0m\u001b[1;33m(\u001b[0m\u001b[0mrange\u001b[0m\u001b[1;33m(\u001b[0m\u001b[0mlen\u001b[0m\u001b[1;33m(\u001b[0m\u001b[0mindices\u001b[0m\u001b[1;33m)\u001b[0m\u001b[1;33m)\u001b[0m\u001b[1;33m,\u001b[0m \u001b[1;33m[\u001b[0m\u001b[0mfeatures\u001b[0m\u001b[1;33m[\u001b[0m\u001b[0mi\u001b[0m\u001b[1;33m]\u001b[0m \u001b[1;32mfor\u001b[0m \u001b[0mi\u001b[0m \u001b[1;32min\u001b[0m \u001b[0mindices\u001b[0m\u001b[1;33m]\u001b[0m\u001b[1;33m)\u001b[0m\u001b[1;33m\u001b[0m\u001b[1;33m\u001b[0m\u001b[0m\n\u001b[0m\u001b[0;32m      8\u001b[0m \u001b[0mplt\u001b[0m\u001b[1;33m.\u001b[0m\u001b[0mxlabel\u001b[0m\u001b[1;33m(\u001b[0m\u001b[1;34m'Feature Importance'\u001b[0m\u001b[1;33m)\u001b[0m\u001b[1;33m\u001b[0m\u001b[1;33m\u001b[0m\u001b[0m\n\u001b[0;32m      9\u001b[0m \u001b[0mplt\u001b[0m\u001b[1;33m.\u001b[0m\u001b[0mtitle\u001b[0m\u001b[1;33m(\u001b[0m\u001b[1;34m'Top 20 Feature Importances (Random Forest)'\u001b[0m\u001b[1;33m)\u001b[0m\u001b[1;33m\u001b[0m\u001b[1;33m\u001b[0m\u001b[0m\n",
            "\u001b[1;32m~\\AppData\\Local\\Temp/ipykernel_12420/3157683333.py\u001b[0m in \u001b[0;36m<listcomp>\u001b[1;34m(.0)\u001b[0m\n\u001b[0;32m      5\u001b[0m \u001b[0mplt\u001b[0m\u001b[1;33m.\u001b[0m\u001b[0mfigure\u001b[0m\u001b[1;33m(\u001b[0m\u001b[0mfigsize\u001b[0m\u001b[1;33m=\u001b[0m\u001b[1;33m(\u001b[0m\u001b[1;36m10\u001b[0m\u001b[1;33m,\u001b[0m \u001b[1;36m8\u001b[0m\u001b[1;33m)\u001b[0m\u001b[1;33m)\u001b[0m\u001b[1;33m\u001b[0m\u001b[1;33m\u001b[0m\u001b[0m\n\u001b[0;32m      6\u001b[0m \u001b[0mplt\u001b[0m\u001b[1;33m.\u001b[0m\u001b[0mbarh\u001b[0m\u001b[1;33m(\u001b[0m\u001b[0mrange\u001b[0m\u001b[1;33m(\u001b[0m\u001b[0mlen\u001b[0m\u001b[1;33m(\u001b[0m\u001b[0mindices\u001b[0m\u001b[1;33m)\u001b[0m\u001b[1;33m)\u001b[0m\u001b[1;33m,\u001b[0m \u001b[0mimportances\u001b[0m\u001b[1;33m[\u001b[0m\u001b[0mindices\u001b[0m\u001b[1;33m]\u001b[0m\u001b[1;33m,\u001b[0m \u001b[0malign\u001b[0m\u001b[1;33m=\u001b[0m\u001b[1;34m'center'\u001b[0m\u001b[1;33m)\u001b[0m\u001b[1;33m\u001b[0m\u001b[1;33m\u001b[0m\u001b[0m\n\u001b[1;32m----> 7\u001b[1;33m \u001b[0mplt\u001b[0m\u001b[1;33m.\u001b[0m\u001b[0myticks\u001b[0m\u001b[1;33m(\u001b[0m\u001b[0mrange\u001b[0m\u001b[1;33m(\u001b[0m\u001b[0mlen\u001b[0m\u001b[1;33m(\u001b[0m\u001b[0mindices\u001b[0m\u001b[1;33m)\u001b[0m\u001b[1;33m)\u001b[0m\u001b[1;33m,\u001b[0m \u001b[1;33m[\u001b[0m\u001b[0mfeatures\u001b[0m\u001b[1;33m[\u001b[0m\u001b[0mi\u001b[0m\u001b[1;33m]\u001b[0m \u001b[1;32mfor\u001b[0m \u001b[0mi\u001b[0m \u001b[1;32min\u001b[0m \u001b[0mindices\u001b[0m\u001b[1;33m]\u001b[0m\u001b[1;33m)\u001b[0m\u001b[1;33m\u001b[0m\u001b[1;33m\u001b[0m\u001b[0m\n\u001b[0m\u001b[0;32m      8\u001b[0m \u001b[0mplt\u001b[0m\u001b[1;33m.\u001b[0m\u001b[0mxlabel\u001b[0m\u001b[1;33m(\u001b[0m\u001b[1;34m'Feature Importance'\u001b[0m\u001b[1;33m)\u001b[0m\u001b[1;33m\u001b[0m\u001b[1;33m\u001b[0m\u001b[0m\n\u001b[0;32m      9\u001b[0m \u001b[0mplt\u001b[0m\u001b[1;33m.\u001b[0m\u001b[0mtitle\u001b[0m\u001b[1;33m(\u001b[0m\u001b[1;34m'Top 20 Feature Importances (Random Forest)'\u001b[0m\u001b[1;33m)\u001b[0m\u001b[1;33m\u001b[0m\u001b[1;33m\u001b[0m\u001b[0m\n",
            "\u001b[1;32m~\\AppData\\Roaming\\Python\\Python39\\site-packages\\pandas\\core\\indexes\\base.py\u001b[0m in \u001b[0;36m__getitem__\u001b[1;34m(self, key)\u001b[0m\n\u001b[0;32m   4602\u001b[0m         \u001b[1;32mif\u001b[0m \u001b[0mis_scalar\u001b[0m\u001b[1;33m(\u001b[0m\u001b[0mkey\u001b[0m\u001b[1;33m)\u001b[0m\u001b[1;33m:\u001b[0m\u001b[1;33m\u001b[0m\u001b[1;33m\u001b[0m\u001b[0m\n\u001b[0;32m   4603\u001b[0m             \u001b[0mkey\u001b[0m \u001b[1;33m=\u001b[0m \u001b[0mcom\u001b[0m\u001b[1;33m.\u001b[0m\u001b[0mcast_scalar_indexer\u001b[0m\u001b[1;33m(\u001b[0m\u001b[0mkey\u001b[0m\u001b[1;33m,\u001b[0m \u001b[0mwarn_float\u001b[0m\u001b[1;33m=\u001b[0m\u001b[1;32mTrue\u001b[0m\u001b[1;33m)\u001b[0m\u001b[1;33m\u001b[0m\u001b[1;33m\u001b[0m\u001b[0m\n\u001b[1;32m-> 4604\u001b[1;33m             \u001b[1;32mreturn\u001b[0m \u001b[0mgetitem\u001b[0m\u001b[1;33m(\u001b[0m\u001b[0mkey\u001b[0m\u001b[1;33m)\u001b[0m\u001b[1;33m\u001b[0m\u001b[1;33m\u001b[0m\u001b[0m\n\u001b[0m\u001b[0;32m   4605\u001b[0m \u001b[1;33m\u001b[0m\u001b[0m\n\u001b[0;32m   4606\u001b[0m         \u001b[1;32mif\u001b[0m \u001b[0misinstance\u001b[0m\u001b[1;33m(\u001b[0m\u001b[0mkey\u001b[0m\u001b[1;33m,\u001b[0m \u001b[0mslice\u001b[0m\u001b[1;33m)\u001b[0m\u001b[1;33m:\u001b[0m\u001b[1;33m\u001b[0m\u001b[1;33m\u001b[0m\u001b[0m\n",
            "\u001b[1;31mIndexError\u001b[0m: index 9639 is out of bounds for axis 0 with size 5394"
          ]
        },
        {
          "data": {
            "image/png": "[encoded data removed]",
            "text/plain": [
              "<Figure size 720x576 with 1 Axes>"
            ]
          },
          "metadata": {
            "needs_background": "light"
          },
          "output_type": "display_data"
        }
      ],
      "source": [
        "importances = rf.feature_importances_\n",
        "features = X_train.columns\n",
        "indices = np.argsort(importances)[-20:]  # top 20 important features\n",
        "\n",
        "plt.figure(figsize=(10, 8))\n",
        "plt.barh(range(len(indices)), importances[indices], align='center')\n",
        "plt.yticks(range(len(indices)), [features[i] for i in indices])\n",
        "plt.xlabel('Feature Importance')\n",
        "plt.title('Top 20 Feature Importances (Random Forest)')\n",
        "plt.tight_layout()\n",
        "plt.show()\n"
      ]
    },
    {
      "cell_type": "markdown",
      "metadata": {},
      "source": [
        "**Observations:**\n",
        "\n",
        "The feature source_source2 emerged as the most important variable, with an importance score of 0.14, significantly higher than others.\n",
        "\n",
        "Although 0.14 may not seem high in absolute terms, its relative dominance suggests this feature plays a key role in prediction compared to the rest."
      ]
    },
    {
      "cell_type": "markdown",
      "metadata": {
        "id": "wy5iipenyMMx"
      },
      "source": [
        "### 4.1 Decision Tree Classifier"
      ]
    },
    {
      "cell_type": "code",
      "execution_count": 127,
      "metadata": {
        "colab": {
          "base_uri": "https://localhost:8080/",
          "height": 365
        },
        "id": "m6VnB2K3ygYF",
        "outputId": "1c5b2edb-f55c-448d-cce4-509bb629fa97"
      },
      "outputs": [
        {
          "name": "stdout",
          "output_type": "stream",
          "text": [
            "Decision Tree\n",
            "Confusion Matrix:\n",
            "[[24675  5731]\n",
            " [  594  3606]]\n",
            "              precision    recall  f1-score   support\n",
            "\n",
            "           0       0.98      0.81      0.89     30406\n",
            "           1       0.39      0.86      0.53      4200\n",
            "\n",
            "    accuracy                           0.82     34606\n",
            "   macro avg       0.68      0.84      0.71     34606\n",
            "weighted avg       0.90      0.82      0.84     34606\n",
            "\n"
          ]
        }
      ],
      "source": [
        "from sklearn.tree import DecisionTreeClassifier\n",
        "from sklearn.metrics import classification_report, confusion_matrix\n",
        "\n",
        "dt = DecisionTreeClassifier(max_depth=5, random_state=0, class_weight='balanced')\n",
        "dt.fit(X_train, y_train)\n",
        "y_pred_dt = dt.predict(X_test)\n",
        "\n",
        "print(\"Decision Tree\")\n",
        "print(\"Confusion Matrix:\")\n",
        "print(confusion_matrix(y_test, y_pred_dt))\n",
        "print(classification_report(y_test, y_pred_dt))\n"
      ]
    },
    {
      "cell_type": "markdown",
      "metadata": {
        "id": "9d03PsjFyMgv"
      },
      "source": [
        "### 4.2 Random Forest"
      ]
    },
    {
      "cell_type": "code",
      "execution_count": 128,
      "metadata": {
        "id": "CSW1b5CFyiRl"
      },
      "outputs": [
        {
          "name": "stdout",
          "output_type": "stream",
          "text": [
            "Random Forest\n",
            "Confusion Matrix:\n",
            "[[29778   628]\n",
            " [ 3087  1113]]\n",
            "              precision    recall  f1-score   support\n",
            "\n",
            "           0       0.91      0.98      0.94     30406\n",
            "           1       0.64      0.27      0.37      4200\n",
            "\n",
            "    accuracy                           0.89     34606\n",
            "   macro avg       0.77      0.62      0.66     34606\n",
            "weighted avg       0.87      0.89      0.87     34606\n",
            "\n"
          ]
        }
      ],
      "source": [
        "from sklearn.ensemble import RandomForestClassifier\n",
        "\n",
        "rf = RandomForestClassifier(n_estimators=100, random_state=0, n_jobs=-1, class_weight='balanced')\n",
        "rf.fit(X_train, y_train)\n",
        "y_pred_rf = rf.predict(X_test)\n",
        "\n",
        "print(\"Random Forest\")\n",
        "print(\"Confusion Matrix:\")\n",
        "print(confusion_matrix(y_test, y_pred_rf))\n",
        "print(classification_report(y_test, y_pred_rf))\n"
      ]
    },
    {
      "cell_type": "markdown",
      "metadata": {
        "id": "Y1LjARIXyMub"
      },
      "source": [
        "### 4.3 Naive Bayes"
      ]
    },
    {
      "cell_type": "code",
      "execution_count": 129,
      "metadata": {
        "id": "2xWPFsWpyl4L"
      },
      "outputs": [
        {
          "name": "stdout",
          "output_type": "stream",
          "text": [
            "Naive Bayes\n",
            "Confusion Matrix:\n",
            "[[ 5809 24597]\n",
            " [  189  4011]]\n",
            "              precision    recall  f1-score   support\n",
            "\n",
            "           0       0.97      0.19      0.32     30406\n",
            "           1       0.14      0.95      0.24      4200\n",
            "\n",
            "    accuracy                           0.28     34606\n",
            "   macro avg       0.55      0.57      0.28     34606\n",
            "weighted avg       0.87      0.28      0.31     34606\n",
            "\n"
          ]
        }
      ],
      "source": [
        "from sklearn.naive_bayes import GaussianNB\n",
        "\n",
        "nb = GaussianNB()\n",
        "nb.fit(X_train, y_train)\n",
        "y_pred_nb = nb.predict(X_test)\n",
        "\n",
        "print(\"Naive Bayes\")\n",
        "print(\"Confusion Matrix:\")\n",
        "print(confusion_matrix(y_test, y_pred_nb))\n",
        "print(classification_report(y_test, y_pred_nb))\n"
      ]
    },
    {
      "cell_type": "markdown",
      "metadata": {},
      "source": [
        "### 4.4 Summary and Conclusion"
      ]
    },
    {
      "cell_type": "markdown",
      "metadata": {},
      "source": [
        "**Summary**\n",
        "\n",
        "In this study, three classification models were evaluated to predict the binary target variable: Decision Tree, Random Forest, and Naive Bayes. The dataset used consists of 500,000 entries. The models were trained 375,000 (75%) instances and were assessed using a consistent test set of 125,000 (25%) instances and evaluated on standard classification metrics: precision, recall, f1-score, and overall accuracy.\n",
        "\n",
        "Model | Accuracy | Precision (Class 1)| Recall (Class 1) | F1-score (Class 1)\n",
        "------|----------|-----------|--------|---------\n",
        "Decision Tree | 76% | 0.43 | 0.79 | 0.56\n",
        "Random Forest | 74% | 0.42 | 0.79 | 0.54\n",
        "Naive Bayes | 29% | 0.21 | 0.97 | 0.35\n",
        "\n",
        "- Decision Tree performed best overall, achieving the highest accuracy and F1-score for class 1. It balanced precision and recall reasonably, though precision remains low.\n",
        "\n",
        "- Random Forest, surprisingly, underperformed the Decision Tree.\n",
        "\n",
        "- Naive Bayes shows extremely high recall (0.97) but very poor precision (0.21), resulting in many false positives and low accuracy. This model struggles significantly with the class distribution or feature independence assumptions."
      ]
    },
    {
      "cell_type": "markdown",
      "metadata": {},
      "source": [
        "**Conclusion**\n",
        "\n",
        "- Reducing the training set to 25% has had a negative impact on all models, particularly on precision and overall accuracy.\n",
        "\n",
        "- The Decision Tree is currently the most balanced performer, offering a compromise between recall and acceptable precision.\n",
        "\n",
        "- Random Forest, which typically excels with more data, has degraded in performance, indicating sensitivity to training set size.\n",
        "\n",
        "- Naive Bayes is not a suitable choice for this dataset in its current form due to overwhelming false positives, despite its high recall."
      ]
    }
  ],
  "metadata": {
    "colab": {
      "provenance": []
    },
    "kernelspec": {
      "display_name": "Python 3",
      "name": "python3"
    },
    "language_info": {
      "codemirror_mode": {
        "name": "ipython",
        "version": 3
      },
      "file_extension": ".py",
      "mimetype": "text/x-python",
      "name": "python",
      "nbconvert_exporter": "python",
      "pygments_lexer": "ipython3",
      "version": "3.9.2"
    }
  },
  "nbformat": 4,
  "nbformat_minor": 0
}
